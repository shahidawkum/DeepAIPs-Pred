{
  "nbformat": 4,
  "nbformat_minor": 0,
  "metadata": {
    "colab": {
      "provenance": []
    },
    "kernelspec": {
      "name": "python3",
      "display_name": "Python 3"
    },
    "language_info": {
      "name": "python"
    }
  },
  "cells": [
    {
      "cell_type": "code",
      "execution_count": null,
      "metadata": {
        "id": "Y7-Uox7Z18RR"
      },
      "outputs": [],
      "source": [
        "import pandas as pd\n",
        "from sklearn.feature_selection import RFECV\n",
        "from sklearn.linear_model import LinearRegression\n",
        "from sklearn.preprocessing import StandardScaler\n",
        "import pandas as pd\n",
        "import numpy as np\n",
        "import matplotlib.pyplot as plt\n",
        "from sklearn.linear_model import Lasso\n",
        "from sklearn.model_selection import train_test_split\n",
        "from sklearn.preprocessing import StandardScaler"
      ]
    },
    {
      "cell_type": "code",
      "source": [
        "from google.colab import drive\n",
        "drive.mount('/content/drive')"
      ],
      "metadata": {
        "colab": {
          "base_uri": "https://localhost:8080/"
        },
        "id": "Wg3Qc43O2CJT",
        "outputId": "f9904ffc-eb2f-4502-e68e-31536df341dc"
      },
      "execution_count": null,
      "outputs": [
        {
          "output_type": "stream",
          "name": "stdout",
          "text": [
            "Drive already mounted at /content/drive; to attempt to forcibly remount, call drive.mount(\"/content/drive\", force_remount=True).\n"
          ]
        }
      ]
    },
    {
      "cell_type": "code",
      "source": [
        "# Load the data from CSV file\n",
        "data = pd.read_csv('/content/drive/MyDrive/Colab Notebooks/Project 2 AIP/Selected Features/IND_hyb425P.csv')"
      ],
      "metadata": {
        "id": "kKSV4iLi2qPY"
      },
      "execution_count": null,
      "outputs": []
    },
    {
      "cell_type": "code",
      "source": [
        "data.shape"
      ],
      "metadata": {
        "colab": {
          "base_uri": "https://localhost:8080/"
        },
        "id": "t9l83lpd3LHt",
        "outputId": "f1a474bb-191f-479b-bd97-f84ef88fd12b"
      },
      "execution_count": null,
      "outputs": [
        {
          "output_type": "execute_result",
          "data": {
            "text/plain": [
              "(424, 1106)"
            ]
          },
          "metadata": {},
          "execution_count": 22
        }
      ]
    },
    {
      "cell_type": "code",
      "source": [
        "X = data.iloc[:, 0:1104].values\n",
        "y = data.iloc [:, 1105].values\n",
        "print(X.shape)\n",
        "print(y.shape)\n",
        "import pandas as pd\n",
        "import numpy as np\n",
        "from sklearn.feature_selection import mutual_info_classif\n",
        "\n",
        "def calculate_relevance(X, y):\n",
        "    return mutual_info_classif(X, y)\n",
        "\n",
        "def calculate_diversity(X):\n",
        "    n_features = X.shape[1]\n",
        "    diversity_matrix = np.zeros((n_features, n_features))\n",
        "\n",
        "    for i in range(n_features):\n",
        "        for j in range(i+1, n_features):\n",
        "            diversity = np.abs(np.corrcoef(X[:,i], X[:,j])[0,1])\n",
        "            diversity_matrix[i, j] = diversity\n",
        "            diversity_matrix[j, i] = diversity\n",
        "\n",
        "    return np.sum(diversity_matrix, axis=1)\n",
        "\n",
        "def mrmd_feature_selection(X, y, n_features_to_select):\n",
        "    relevance = calculate_relevance(X, y)\n",
        "    diversity = calculate_diversity(X)\n",
        "\n",
        "    scores = relevance + diversity\n",
        "    selected_features_indices = np.argsort(scores)[::-1][:n_features_to_select]\n",
        "\n",
        "    return selected_features_indices, X[:, selected_features_indices]\n",
        "# Number of features to select\n",
        "n_features_to_select = 750  # You can change this value as needed\n",
        "\n",
        "# Feature selection using MRMD\n",
        "selected_feature_indices, selected_features = mrmd_feature_selection(X, y, n_features_to_select)\n",
        "\n",
        "# Print the indices of selected features\n",
        "print(\"Selected feature indices:\", selected_feature_indices)\n",
        "\n",
        "# Convert selected features to a DataFrame\n",
        "selected_features_df = pd.DataFrame(selected_features)\n",
        "\n",
        "# Save the selected features to a new CSV file\n",
        "selected_features_df.to_csv('/content/drive/MyDrive/Colab Notebooks/AIP-Ind1049-750-Selected_features.csv', index=False)"
      ],
      "metadata": {
        "colab": {
          "base_uri": "https://localhost:8080/"
        },
        "id": "P26oML0e3GdK",
        "outputId": "a8e4ebd1-629c-4aa4-feed-3e734665d463"
      },
      "execution_count": null,
      "outputs": [
        {
          "output_type": "stream",
          "name": "stdout",
          "text": [
            "(424, 1104)\n",
            "(424,)\n",
            "Selected feature indices: [383 256 300 266 397 318 341 260 265 350 396 302 257 385   0 349 299 317\n",
            " 340 343 259 301  24 253 264 395 303 360   2 382 277 298 255 359 316 261\n",
            " 258 386 423  31 262 393 282  66 314 324 319  64 278 348 339 297 411 288\n",
            " 271 313 309 353 330  16 283 342 223 267 189   4 387 128 292 320  32 231\n",
            " 276 345 191 681 384 308 287 325 304   1 402 239 312 272 311 222 245 269\n",
            " 281 358 363 296 338 362 377 279 321 306 351 335 293 323 285 310 270 268\n",
            " 275 148 307   7 405 337 295 286 247  23 284 381 127  56 371 274 394 263\n",
            " 406 365 305 344 329   5 123 220 152 376  41 315 251 347 334 326 401 290\n",
            " 254 118 204 291   9 682 107 346  46   8 487 147 674 289 221 214 213 294\n",
            " 336 412 273 185 121  18 364 352 206  63 366 192 361 212  15 134 327 224\n",
            " 677 111 328 354 235 115 400 408 624 248  53 159 415  33 184 662 614 355\n",
            "  49 392 403 369 129 380 165 477 427 252 643  45 208 453 398 388 106 237\n",
            " 322 226 390 367 160 233  69 331  17 416 683 537 180 172 375 526  90 418\n",
            " 541  29 219 431 379 144 378 280  25 471 389 372 187 399 668 175 454 357\n",
            " 430 140 167 120 664  44 211 333  95 407 414  57 684 150  28 136 478 126\n",
            " 149  22 119  12 410 551 391 332 109   3 249 564 370 663 141 244  48  68\n",
            " 105 593 550 446 419  71 491 424 108 535  80 666 203  72   6 672 646 463\n",
            "  52 514 207 555 569 146 356  87 438 665  40 497 417  11 429 246 587 156\n",
            "  26  86 186 558 125 452  43 439  96 647 374  65 661 143  75 104 518  73\n",
            " 181 628 616 435 368 154 648  51 515 640 483 190 145 240 451 236 201 579\n",
            " 113 215  88  74 409 630 600 177 122 196 169  85 373 486 553 444 494  83\n",
            "  93 582 230 676 525  67 440 580 654 158 238 651  70 155  14 670 117  97\n",
            "  59 124 656  20 425  21 100 637  81 188  27  36 604 606 132 450 532 547\n",
            " 472  60 110 200 250 675 464 137 552 130 437 568  38 455 660 210 638 232\n",
            " 227 539 549 598  76 583 163  62 174 457 194 678 241  84 183 623 609 534\n",
            " 217 489 480  79  54 441  30 577  89  19 153 522 209  47 544 594  78  98\n",
            " 135 198 447 178 470 462 434  82 639 157 138 202 162 536 168 176 179 521\n",
            " 456  91  55 622 669 225 667 548 216 413 597 618 199  34 151  99 573  13\n",
            " 131 517 501 649 611 234 171 461 195 612  61 567 592 161  35 228 164 584\n",
            " 502 112  58 590 205 504 445 116 488 533 507 166 581 655 170 657 524 173\n",
            " 426 420 641 243 608 619 625 538 523 546 527 610 642 508 458 197 193 103\n",
            " 102 540 421 492 617 473 629 645 585 442 679 142 432 459 574 101 566 182\n",
            " 659 460 621 529  37 484 565 589 673  92 519 599 428 543 658 644 449 554\n",
            "  39 509 601 575 557 133  50 498 633 615 506 475 542 503 436 512 448 559\n",
            " 422 479 531 510 636 602 493 500 139 671 443  10 485 495 499 632 229 560\n",
            " 588 680 620 591 242 114 469 613 595  94 652 481 490 496 474 562 520 586\n",
            " 516 576 689 578 218 627  77 626 466 528 570 476 545 404 653  42 603 571\n",
            " 607 635 505 467 465 631 563 634 572 556 433 561 513 692 482 511 650 468\n",
            " 530 605 596 685 695 686 698 691 693 688 694 714 687 712 701 705 713 703\n",
            " 697 730 690 699 746 731 750 700 708 780 719 755 696 728 704 768 716 706\n",
            " 761 766 736 727 765 729 753 718 709 743 735 702 756 724 744 737 740 759\n",
            " 711 771 764 793 749 742 722 900 782 717 910 777]\n"
          ]
        }
      ]
    }
  ]
}